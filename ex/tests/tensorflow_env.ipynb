{
 "cells": [
  {
   "cell_type": "markdown",
   "id": "35793bd0-2041-4482-be32-7efd55f7a05f",
   "metadata": {},
   "source": [
    "## TensorFlow"
   ]
  },
  {
   "cell_type": "code",
   "execution_count": null,
   "id": "96abeaa1-7fd5-495c-a85d-cbb8575c3081",
   "metadata": {},
   "outputs": [],
   "source": [
    "import tensorflow as tf\n",
    "\n",
    "devices = tf.config.list_physical_devices(\"GPU\")\n",
    "assert len(devices) > 0\n",
    "\n",
    "rnd = tf.random.uniform(shape=(100, 1))\n",
    "assert tf.math.abs(tf.reduce_sum(rnd)) > 0.0"
   ]
  },
  {
   "cell_type": "code",
   "execution_count": null,
   "id": "e4409261-5fe0-45ca-a399-79c99c7232e7",
   "metadata": {},
   "outputs": [],
   "source": []
  }
 ],
 "metadata": {
  "kernelspec": {
   "display_name": "cnn-k2",
   "language": "python",
   "name": "cnn-k2"
  },
  "language_info": {
   "codemirror_mode": {
    "name": "ipython",
    "version": 3
   },
   "file_extension": ".py",
   "mimetype": "text/x-python",
   "name": "python",
   "nbconvert_exporter": "python",
   "pygments_lexer": "ipython3",
   "version": "3.10.14"
  }
 },
 "nbformat": 4,
 "nbformat_minor": 5
}
