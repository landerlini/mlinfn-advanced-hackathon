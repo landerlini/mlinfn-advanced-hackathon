{
 "cells": [
  {
   "cell_type": "markdown",
   "metadata": {
    "id": "z-YVD_JbHZ0L"
   },
   "source": [
    "# Graph Coloring Problem with QUBO"
   ]
  },
  {
   "cell_type": "markdown",
   "metadata": {
    "id": "N4Nsf56e9cbL"
   },
   "source": [
    "## Problem setup"
   ]
  },
  {
   "cell_type": "code",
   "execution_count": null,
   "metadata": {
    "executionInfo": {
     "elapsed": 3304,
     "status": "ok",
     "timestamp": 1730972531395,
     "user": {
      "displayName": "Laura Cappelli",
      "userId": "01724913762953253824"
     },
     "user_tz": -60
    },
    "id": "Ved90EASZPkG"
   },
   "outputs": [],
   "source": [
    "# Useful packages\n",
    "import numpy as np\n",
    "import networkx as nx\n",
    "import matplotlib.pyplot as plt\n",
    "import itertools\n",
    "import argparse\n",
    "\n",
    "from qiskit.quantum_info import Pauli, SparsePauliOp\n",
    "from qiskit.circuit.library import TwoLocal\n",
    "from qiskit_algorithms.optimizers import SPSA\n",
    "from qiskit.primitives import Sampler\n",
    "from qiskit_algorithms import SamplingVQE"
   ]
  },
  {
   "cell_type": "code",
   "execution_count": null,
   "metadata": {
    "executionInfo": {
     "elapsed": 251,
     "status": "ok",
     "timestamp": 1730972533847,
     "user": {
      "displayName": "Laura Cappelli",
      "userId": "01724913762953253824"
     },
     "user_tz": -60
    },
    "id": "yXQpIAbEuLIO"
   },
   "outputs": [],
   "source": [
    "# Graphs definition\n",
    "\n",
    "def test_selector(id):\n",
    "\n",
    "  if (id == 1):\n",
    "    N=3; K=2\n",
    "    G=np.zeros([N,N])\n",
    "    G[0][1]=1\n",
    "    G[1][0]=1; G[1][2]=1\n",
    "    G[2][1]=1\n",
    "\n",
    "  elif (id == 2):\n",
    "    N=5; K=3\n",
    "    G=np.zeros([N,N])\n",
    "    G[0][1]=1; G[0][4]=1\n",
    "    G[1][0]=1; G[1][2]=1; G[1][3]=1; G[1][4]=1\n",
    "    G[2][1]=1; G[2][3]=1\n",
    "    G[3][1]=1; G[3][2]=1; G[3][4]=1\n",
    "    G[4][0]=1; G[4][1]=1; G[4][3]=1\n",
    "\n",
    "  elif (id == 3):\n",
    "    N=4; K=2\n",
    "    G=np.zeros([N,N])\n",
    "    G[0][1]=1\n",
    "    G[1][0]=1; G[1][2]=1; G[1][3]=1\n",
    "    G[2][1]=1;\n",
    "    G[3][1]=1\n",
    "\n",
    "  elif (id == 4):\n",
    "    N=6; K=3\n",
    "    G=np.zeros([N,N])\n",
    "    G[0][2]=1\n",
    "    G[1][3]=1; G[1][4]=1\n",
    "    G[2][0]=1; G[2][4]=1\n",
    "    G[3][1]=1; G[3][4]=1; G[3][5]=1\n",
    "    G[4][1]=1; G[4][2]=1; G[4][3]=1\n",
    "    G[5][3]=1\n",
    "\n",
    "  elif (id == 5):\n",
    "    N=6; K=3\n",
    "    G=np.zeros([N,N])\n",
    "    G[0][1]=1; G[0][5]=1\n",
    "    G[1][0]=1; G[1][2]=1; G[1][3]=1; G[1][5]=1\n",
    "    G[2][1]=1; G[2][3]=1\n",
    "    G[3][1]=1; G[3][2]=1; G[3][4]=1\n",
    "    G[4][3]=1; G[4][5]=1\n",
    "    G[5][0]=1; G[5][1]=1; G[5][4]=1\n",
    "\n",
    "\n",
    "  return G, N, K"
   ]
  },
  {
   "cell_type": "code",
   "execution_count": null,
   "metadata": {
    "executionInfo": {
     "elapsed": 239,
     "status": "ok",
     "timestamp": 1730972536025,
     "user": {
      "displayName": "Laura Cappelli",
      "userId": "01724913762953253824"
     },
     "user_tz": -60
    },
    "id": "Uh39TiZgXwke"
   },
   "outputs": [],
   "source": [
    "# useful functions\n",
    "\n",
    "def draw_graph(G, color_list):\n",
    "  print()\n",
    "  if len(color_list) == 0:\n",
    "    nx.draw_circular(G, with_labels=True, font_weight='bold')\n",
    "  else:\n",
    "    nx.draw_circular(G, with_labels=True, font_weight='bold', node_color=color_list)\n",
    "  plt.show()\n",
    "\n",
    "def getColors(solution,N,K):\n",
    "  colors = np.empty(N)\n",
    "  for ii in range(len(solution)):\n",
    "    if solution[ii] == 1:\n",
    "      inode = (ii//K)\n",
    "      icolor = (ii%K)\n",
    "      colors[inode] = icolor\n",
    "  return colors"
   ]
  },
  {
   "cell_type": "code",
   "execution_count": null,
   "metadata": {
    "colab": {
     "base_uri": "https://localhost:8080/",
     "height": 655
    },
    "executionInfo": {
     "elapsed": 250,
     "status": "ok",
     "timestamp": 1730972537805,
     "user": {
      "displayName": "Laura Cappelli",
      "userId": "01724913762953253824"
     },
     "user_tz": -60
    },
    "id": "-poL-GLzuRCM",
    "outputId": "b34cf5e1-5086-49cd-d6ea-63f975e7b724"
   },
   "outputs": [],
   "source": [
    "# select a graph from ID (N: number of node, K: number of color, G: adjacency matrix)\n",
    "testid = 1\n",
    "\n",
    "G, N, K = test_selector(testid)\n",
    "print(\"------ INPUT -------\")\n",
    "print(\"N: \", N)\n",
    "print(\"K: \", K)\n",
    "print(\"G:\\n\", G)\n",
    "draw_graph(nx.from_numpy_array(G), [])"
   ]
  },
  {
   "cell_type": "markdown",
   "metadata": {
    "id": "O19-UaDVwvct"
   },
   "source": [
    "### Formulating QUBO"
   ]
  },
  {
   "cell_type": "markdown",
   "metadata": {
    "id": "O19-UaDVwvct"
   },
   "source": [
    "#### Write your code in the cell below\n",
    "* Step 1: initialize $Q$, $g$ and $c$ with the right dimensions, filling them with $0$s\n",
    "  * Hint: $Q$ and $g$ could be a numpy array\n",
    "* Step 2: add penalties from nodes constraints (each node is colored with just one color)\n",
    "  * Hint: loop over nodes and colors and\n",
    "      * add the linear terms $-1$ at $g$\n",
    "      * add the quadratic terms $2 * x_{i,k} *x_{i+1,k}$ at $Q$ (remember that Q is symmetrical)\n",
    "      * increase the constant $c$ by 1\n",
    "* Step 3: add penalities from edge constraints (two connected nodes have different colors)\n",
    "  * Hint: loop over the edges\n",
    "* Step 4: multiply Q, g, c for the penality $p=4$\n",
    "* Step 5: solving by brute force finding $y$ that minimize $C(y) = {\\bf y}^TQ{\\bf y} + {\\bf g}^T{\\bf y} + c$\n",
    "  * Hint:\n",
    "    * initialize Ymin, Cmin\n",
    "    * build the list Ylist with all the possible results (all the numbers from 0 to 2(N*K)-1 expressed in base 2, use itertools library)\n",
    "    * Compute $C(y) = {\\bf y}^TQ{\\bf y} + {\\bf g}^T{\\bf y} + c$ for every element Y of Ylist and save the result if it is the best found result\n",
    "* Step 6: print the result\n",
    "  * Hint: use the draw_graph function"
   ]
  },
  {
   "cell_type": "code",
   "execution_count": null,
   "metadata": {},
   "outputs": [],
   "source": [
    "# Step1\n",
    "dim = N*K\n",
    "Q = np.zeros((dim, dim))\n",
    "g = np.zeros(dim)\n",
    "c = 0\n",
    "\n",
    "# Step 2\n",
    "for ii in range(N): #loop over nodes\n",
    "  for kk in range(K): #loop over colors\n",
    "  ...\n",
    "\n",
    "  for kk in range(K-1):\n",
    "    for kkk in range(kk+1,K):\n",
    "  ...\n",
    "\n",
    "# Step 3\n",
    "for ii in range(N):\n",
    "  for jj in range(ii+1,N):\n",
    "    if G[ii][jj] == 1:\n",
    "      for kk in range(K):\n",
    "        ...\n",
    "\n",
    "# Step 4\n",
    "...\n",
    "\n",
    "# Step 5\n",
    "...\n",
    "for ii in range(len(Ylist)):\n",
    "  ...\n",
    "\n",
    "# Step 6\n",
    "...\n",
    "draw_graph(nx.from_numpy_array(G), getColors(Ymin, N, K))"
   ]
  },
  {
   "cell_type": "code",
   "execution_count": null,
   "metadata": {
    "colab": {
     "base_uri": "https://localhost:8080/",
     "height": 1000
    },
    "executionInfo": {
     "elapsed": 521,
     "status": "ok",
     "timestamp": 1730972540158,
     "user": {
      "displayName": "Laura Cappelli",
      "userId": "01724913762953253824"
     },
     "user_tz": -60
    },
    "id": "m4a33IPbd6hi",
    "outputId": "8df0234c-07fd-4451-fc9e-0578ea9c24c8"
   },
   "outputs": [],
   "source": [
    "# Step 1\n",
    "# Iniatilize Q assuming the mapping\n",
    "# (i,k) --> (i*K+k), i index of node, k index of color\n",
    "Q = np.zeros([N*K, N*K])\n",
    "g = np.zeros(N*K)\n",
    "c = 0\n",
    "\n",
    "# Step 2\n",
    "# add penalties from nodes constraints: a node is colored with one color\n",
    "for ii in range(N):\n",
    "  # add linear terms\n",
    "  for kk in range(K):\n",
    "    tt = ii*K+kk\n",
    "    g[tt] = -1\n",
    "  # add quadratic terms 2*x_{ii,kk}*x_{ii+1,kk}\n",
    "  for kk in range(K-1):\n",
    "    for kkk in range(kk+1,K):\n",
    "      tt = ii*K+kk\n",
    "      rr = ii*K+kkk\n",
    "      Q[tt][rr] += 1\n",
    "      Q[rr][tt] += 1\n",
    "      # print(\"kk: \", kk, \"ii: \", ii, \"kkk: \", kkk, \"tt: \", tt, \"rr: \",rr)\n",
    "  # add constant\n",
    "  c += 1\n",
    "# print(\"Q:\\n\", Q)\n",
    "\n",
    "# Step 3\n",
    "# add penalties from edges constraints: two connected nodes i and j have\n",
    "# different colors\n",
    "for ii in range(N):\n",
    "  for jj in range(ii+1,N):\n",
    "    if G[ii][jj] == 1:\n",
    "      for kk in range(K):\n",
    "        tt = ii*K+kk # i-index\n",
    "        rr = jj*K+kk # j-index\n",
    "        Q[tt][rr] += 0.5\n",
    "        Q[rr][tt] += 0.5\n",
    "        # print(\"ii: \", ii, \"jj: \", jj, \"kk: \", kk, \"tt: \", tt, \"rr: \", rr)\n",
    "# print(\"Q:\\n\", Q)\n",
    "\n",
    "# Step 4\n",
    "penality = 4\n",
    "Q = penality*Q\n",
    "g = penality*g\n",
    "c = penality*c\n",
    "print(\"Q:\\n\", Q)\n",
    "print(\"\\ng: \", g)\n",
    "print(\"\\nc: \", c, \"\\n\")\n",
    "\n",
    "# Step 5\n",
    "# Solving QUBO: finding Y that minimizes C(Y) = YQY + gY + c\n",
    "Cmin = float('inf')\n",
    "\n",
    "# building cross-product (0,1)^(N*K)\n",
    "# all the numbers from 0 to 2(N*K)-1 expressed in base 2\n",
    "Ylist = list(itertools.product([0, 1], repeat=(N*K)))\n",
    "# print(\"Ylist - size: \", len(Ylist), \"\\n\", Ylist)\n",
    "\n",
    "# compute C(Y) = YQY + gY + c for every Y\n",
    "for ii in range(len(Ylist)):\n",
    "  Y = np.array(Ylist[ii])\n",
    "  Cy=(Y.dot(Q).dot(Y.transpose()))+g.dot(Y.transpose())+c\n",
    "  if ( Cy < Cmin ):\n",
    "    Cmin = Cy\n",
    "    Ymin = Y.copy()\n",
    "\n",
    "# Step 6\n",
    "# Print the result\n",
    "print(\"computing: C(Y) = YQY + gY + c\")\n",
    "print(\"    C(Y) min: \", Cmin)\n",
    "print(\"    Y min: \", Ymin)\n",
    "print(\"\\nGraph coloring solution with QUBO:\")\n",
    "for ii in range(len(Ymin)):\n",
    "  if Ymin[ii] == 1:\n",
    "    print(\"y_%02d = x_%d%d = true --> N%d C%d\" % (ii, (ii//K), (ii%K), (ii//K), (ii%K)))\n",
    "print()\n",
    "draw_graph(nx.from_numpy_array(G), getColors(Ymin, N, K))"
   ]
  },
  {
   "cell_type": "markdown",
   "metadata": {
    "id": "2S_wXFZZMJcj"
   },
   "source": [
    "### Translating into Ising problem"
   ]
  },
  {
   "cell_type": "markdown",
   "metadata": {
    "id": "2S_wXFZZMJcj"
   },
   "source": [
    "#### Write your code in the cell below\n",
    "* Step 7: initialize $ONES$, $ONEST$ and $QT$ with the right dimensions\n",
    "* Step 8: compte $Qz$, $gzT$ and $cz$\n",
    "* Step 9: solving Ising by brute force findin Z that minimizes $ E(Z) = ZT*Qz*Z + gzT * Z + cz$\n",
    "* Step 10: convert Zmin to Ymin and call the variable Yzmin\n",
    "* Step 11: verify that Yzmin is a solution for the original QUBO problem"
   ]
  },
  {
   "cell_type": "code",
   "execution_count": null,
   "metadata": {},
   "outputs": [],
   "source": [
    "# Step 7\n",
    "...\n",
    "\n",
    "# Step 8\n",
    "...\n",
    "\n",
    "# Step 9\n",
    "...\n",
    "\n",
    "# Step 10\n",
    "...\n",
    "\n",
    "# Step 11\n",
    "...\n",
    "draw_graph(nx.from_numpy_array(G), getColors(Yzmin, N, K))"
   ]
  },
  {
   "cell_type": "code",
   "execution_count": null,
   "metadata": {
    "colab": {
     "base_uri": "https://localhost:8080/",
     "height": 933
    },
    "executionInfo": {
     "elapsed": 273,
     "status": "ok",
     "timestamp": 1730972543646,
     "user": {
      "displayName": "Laura Cappelli",
      "userId": "01724913762953253824"
     },
     "user_tz": -60
    },
    "id": "Cv7Dey7Pfbvc",
    "outputId": "2acc8ca7-0881-43c9-e107-6af2f9ab225e"
   },
   "outputs": [],
   "source": [
    "# Step 7\n",
    "ONES = np.ones(N*K)\n",
    "ONEST = ONES.transpose()\n",
    "QT = Q.transpose()\n",
    "\n",
    "# Step 8\n",
    "Qz  =  0.25*Q\n",
    "gzT = -0.25*(ONES.dot(QT+Q)) - 0.5*g\n",
    "cz  =  0.25*(ONES.dot(Q.dot(ONEST))) + 0.5*g.dot(ONEST) + c\n",
    "print(\"Qz:\\n\", Qz)\n",
    "print(\"\\ngzT: \", gzT)\n",
    "print(\"\\ncz: \", cz, \"\\n\")\n",
    "\n",
    "# Step 9\n",
    "# Solving Ising: finding Z that minimizes E(Z) = ZT*Qz*Z + gzT * Z + cz\n",
    "Ezmin = float('inf')\n",
    "\n",
    "# building cross-product (0,1)^(N*K)\n",
    "Zlist = list(itertools.product([1, -1], repeat=(N*K)))\n",
    "\n",
    "# compute E(Z) = ZT*Qz*Z + gzT * Z + cz for every Z\n",
    "for ii in range(len(Zlist)):\n",
    "  Z = np.array(Zlist[ii])\n",
    "  ZT= Z.transpose()\n",
    "  Ez = (Z.dot(Qz)).dot(ZT) + gzT.dot(ZT) + cz\n",
    "  if ( Ez < Ezmin ):\n",
    "    Ezmin = Ez\n",
    "    Zmin = Z.copy()\n",
    "# print(\"\\nZmin: \", Zmin, \"Ezmin: \", Ezmin, \"cz: \", cz)\n",
    "\n",
    "# Step 10\n",
    "# convert Zmin to Ymin\n",
    "Yzmin = np.zeros(N*K)\n",
    "for ii in range(len(Zmin)):\n",
    "  Yzmin[ii] = (1-Zmin[ii])//2\n",
    "\n",
    "# Step 11\n",
    "print(\"computing: E(Z) = ZT*Qz*Z + gzT * Z + cz\")\n",
    "print(\"    E(Z) min: \", Ezmin)\n",
    "print(\"    Z min: \", Zmin)\n",
    "print(\"    convert Z min to Y min: \", Yzmin)\n",
    "print(\"    Yz min: \", (Yzmin.dot(Q).dot(Yzmin.transpose()))+g.dot(Yzmin.transpose())+c)\n",
    "\n",
    "print(\"\\nGraph coloring solution with Ising:\")\n",
    "for ii in range(len(Yzmin)):\n",
    "  if Yzmin[ii] == 1:\n",
    "    print(\"y_%02d --> x_%d%d=true --> N%d C%d\" % (ii, (ii//K), (ii%K), (ii//K), (ii%K)))\n",
    "print()\n",
    "draw_graph(nx.from_numpy_array(G), getColors(Yzmin, N, K))"
   ]
  },
  {
   "cell_type": "markdown",
   "metadata": {
    "id": "_5MvxkaXMUII"
   },
   "source": [
    "### Translating into Hamiltonian"
   ]
  },
  {
   "cell_type": "markdown",
   "metadata": {
    "id": "_5MvxkaXMUII"
   },
   "source": [
    "#### Write your code in the cell below\n",
    "* Step 12: initialize pauli_list and coeffs as two empty lists\n",
    "* Step 13: compte coefficent and pauli string for each linear term\n",
    "* Step 14: compte coefficent and pauli string for each quadratic term\n",
    "* Step 15: Print the offset, the Ising Hamiltonian and how many qubits the system needs"
   ]
  },
  {
   "cell_type": "code",
   "execution_count": null,
   "metadata": {},
   "outputs": [],
   "source": [
    "# Step 12\n",
    "...\n",
    "\n",
    "# Step 13\n",
    "...\n",
    "\n",
    "# Step 14\n",
    "...\n",
    "\n",
    "# Step 15\n",
    "..."
   ]
  },
  {
   "cell_type": "code",
   "execution_count": null,
   "metadata": {
    "colab": {
     "base_uri": "https://localhost:8080/"
    },
    "executionInfo": {
     "elapsed": 242,
     "status": "ok",
     "timestamp": 1730972546393,
     "user": {
      "displayName": "Laura Cappelli",
      "userId": "01724913762953253824"
     },
     "user_tz": -60
    },
    "id": "_RqNlqqof2BW",
    "outputId": "5d0e653f-b28d-400a-cfcf-03718dda09bb"
   },
   "outputs": [],
   "source": [
    "# Step 12\n",
    "pauli_list = []\n",
    "coeffs = []\n",
    "\n",
    "# Step 13\n",
    "for ii in range(N*K):\n",
    "  if gzT[ii] != 0:\n",
    "    vp = np.zeros(N*K)\n",
    "    wp = np.zeros(N*K)\n",
    "    vp[ii] = 1\n",
    "    pauli_list.append(Pauli((vp, wp)))\n",
    "    coeffs.append(gzT[ii])\n",
    "\n",
    "# Step 14\n",
    "for ii in range(N*K):\n",
    "  for jj in range(ii):\n",
    "    if Qz[ii,jj] != 0:\n",
    "      # elements at the bottom of the diagonal different from 0\n",
    "      vp = np.zeros(N*K)\n",
    "      wp = np.zeros(N*K)\n",
    "      vp[ii] = 1\n",
    "      vp[jj] = 1\n",
    "      pauli_list.append(Pauli((vp, wp)))\n",
    "      coeffs.append(2.0*Qz[ii,jj])\n",
    "\n",
    "qubit_op = SparsePauliOp(pauli_list, coeffs)\n",
    "# print(\"qubit_op \", qubit_op)\n",
    "\n",
    "# Step 15\n",
    "print(\"Offset:\", -cz)\n",
    "print(\"Ising Hamiltonian:\")\n",
    "for ii in range(qubit_op.size):\n",
    "    print(qubit_op.coeffs[ii].real, \"*\", qubit_op.paulis[ii], \"+\")\n",
    "\n",
    "print(\"\\nThis instance requires:\", qubit_op.num_qubits, \"qbits\")"
   ]
  },
  {
   "cell_type": "markdown",
   "metadata": {
    "id": "v5esxXzuChjL"
   },
   "source": [
    "### Running on local quantum simulator\n"
   ]
  },
  {
   "cell_type": "markdown",
   "metadata": {
    "id": "v5esxXzuChjL"
   },
   "source": [
    "#### Write your code in the cell below\n",
    "* Step 16: initialize a `SamplingVQE` object with an appropriate ansatz and optimizer\n",
    "* Step 17: run the computation with the `compute_minimum_eigenvalue` method\n",
    "* Step 18: print the solution of the problem\n",
    "* Step 19: check if the result is correct sobstituting the binary string in the cost function"
   ]
  },
  {
   "cell_type": "code",
   "execution_count": null,
   "metadata": {},
   "outputs": [],
   "source": [
    "# Step 16\n",
    "ry = TwoLocal(qubit_op.num_qubits, \"ry\", \"cz\", reps=3, entanglement=\"linear\")\n",
    "print(TwoLocal(qubit_op.num_qubits, \"ry\", \"cz\", reps=3, insert_barriers=True, entanglement=\"linear\").decompose())\n",
    "\n",
    "optimizer = SPSA(maxiter=300)\n",
    "vqe = SamplingVQE(sampler=Sampler(), ansatz=ry, optimizer=optimizer)\n",
    "\n",
    "# Step 17\n",
    "vqe_result = vqe.compute_minimum_eigenvalue(qubit_op)\n",
    "\n",
    "# Step 18\n",
    "energy = vqe_result.eigenvalue.real\n",
    "best_solution = vqe_result.best_measurement[\"bitstring\"]\n",
    "Qmin = np.asarray([int(y) for y in reversed(best_solution)])\n",
    "cost = energy + cz\n",
    "print(\"\\nenergy (eigenvalue):\", energy)\n",
    "print(\"Qmin (solution) = \" + str(Qmin) + \" cost (energy + offset) = \" + str(cost))\n",
    "print(\"Computing time = \", vqe_result.optimizer_time)\n",
    "\n",
    "print(\"\\nGraph coloring solution with VQE:\")\n",
    "for ii in range(len(Qmin)):\n",
    "  if Qmin[ii] == 1:\n",
    "    print(\"q_%02d --> x_%d%d=true --> N%d C%d\" % (ii, (ii//K), (ii%K), (ii//K), (ii%K)))\n",
    "print()\n",
    "draw_graph(nx.from_numpy_array(G), getColors(Qmin, N, K))\n",
    "\n",
    "# Step 19\n",
    "CQmin = (Qmin.dot(Q).dot(Qmin.transpose()))+g.dot(Qmin.transpose())+c\n",
    "print(\"\\nC(Qmin): \", CQmin)\n",
    "print(\"C(min): \", Cmin)\n",
    "if Cmin == CQmin:\n",
    "  print(\"OK CYmin == CQmin\")\n",
    "else:\n",
    "  print(\"KO QYmin != CQmin\")"
   ]
  },
  {
   "cell_type": "markdown",
   "metadata": {
    "id": "NFrmmwyWED6H"
   },
   "source": [
    "## Solving with the Qiskit Optimization Module"
   ]
  },
  {
   "cell_type": "code",
   "execution_count": null,
   "metadata": {
    "executionInfo": {
     "elapsed": 250,
     "status": "ok",
     "timestamp": 1730973174502,
     "user": {
      "displayName": "Laura Cappelli",
      "userId": "01724913762953253824"
     },
     "user_tz": -60
    },
    "id": "-vlkpfC5CRKg"
   },
   "outputs": [],
   "source": [
    "from qiskit_optimization import QuadraticProgram\n",
    "from qiskit_algorithms import NumPyMinimumEigensolver\n",
    "from qiskit_optimization.algorithms import MinimumEigenOptimizer"
   ]
  },
  {
   "cell_type": "markdown",
   "metadata": {
    "id": "yC9XdSUjCiyC"
   },
   "source": [
    "Create an intance of the quadratic program. We specify the binary variables and the component of the QUBO equation: the matrix $Q$, the vector $g$ and the constant $c$."
   ]
  },
  {
   "cell_type": "code",
   "execution_count": null,
   "metadata": {
    "colab": {
     "base_uri": "https://localhost:8080/"
    },
    "executionInfo": {
     "elapsed": 237,
     "status": "ok",
     "timestamp": 1730973115187,
     "user": {
      "displayName": "Laura Cappelli",
      "userId": "01724913762953253824"
     },
     "user_tz": -60
    },
    "id": "meFyzqgzGEev",
    "outputId": "c9fd0714-516e-4809-933c-7403b74d8b2f"
   },
   "outputs": [],
   "source": [
    "qp_model = QuadraticProgram(\"GraphColoring\")\n",
    "y = [qp_model.binary_var('y%s' % (i+1)) for i in range(N*K)]\n",
    "qp_model.minimize(constant=c, linear=g, quadratic=Q)\n",
    "print(qp_model.prettyprint())\n",
    "\n",
    "print(\"Symmetric quadratic matrix:\\n\", qp_model.objective.quadratic.to_array(symmetric=True), \"\\n\")"
   ]
  },
  {
   "cell_type": "markdown",
   "metadata": {
    "id": "5Pf2A1K7Gq9N"
   },
   "source": [
    "We generate the Ising Hamiltonian form of the QUBO model with the `to_ising` method."
   ]
  },
  {
   "cell_type": "code",
   "execution_count": null,
   "metadata": {
    "colab": {
     "base_uri": "https://localhost:8080/"
    },
    "executionInfo": {
     "elapsed": 248,
     "status": "ok",
     "timestamp": 1730973178773,
     "user": {
      "displayName": "Laura Cappelli",
      "userId": "01724913762953253824"
     },
     "user_tz": -60
    },
    "id": "k_gSxRxUGqlW",
    "outputId": "5fc77fe7-d153-488b-a112-d67f549d55cc"
   },
   "outputs": [],
   "source": [
    "qubitOp, offset = qp_model.to_ising()\n",
    "print(\"Offset:\", offset)\n",
    "print(\"Ising Hamiltonian:\")\n",
    "print(str(qubitOp))"
   ]
  },
  {
   "cell_type": "markdown",
   "metadata": {
    "id": "gNZwg5jJHBIb"
   },
   "source": [
    "Then, we can compute the exact classical solution with the `NumPyMinimumEigenSolver` from both the `QuadraticProgram` instance and from the Ising Hamiltonian computed from it. In this case, each function returns different result parameters."
   ]
  },
  {
   "cell_type": "code",
   "execution_count": null,
   "metadata": {
    "colab": {
     "base_uri": "https://localhost:8080/"
    },
    "executionInfo": {
     "elapsed": 389,
     "status": "ok",
     "timestamp": 1730973180890,
     "user": {
      "displayName": "Laura Cappelli",
      "userId": "01724913762953253824"
     },
     "user_tz": -60
    },
    "id": "u_O55SEQHBfp",
    "outputId": "9dc6c8d8-f0b6-4a69-dbb7-c4d82d54d25e"
   },
   "outputs": [],
   "source": [
    "# Solving Quadratic Program using exact classical numpy minimum eigen solver\n",
    "exact = MinimumEigenOptimizer(NumPyMinimumEigensolver())\n",
    "result_from_qp_model = exact.solve(qp_model)\n",
    "print(result_from_qp_model.prettyprint())"
   ]
  },
  {
   "cell_type": "code",
   "execution_count": null,
   "metadata": {
    "colab": {
     "base_uri": "https://localhost:8080/"
    },
    "executionInfo": {
     "elapsed": 344,
     "status": "ok",
     "timestamp": 1730973208869,
     "user": {
      "displayName": "Laura Cappelli",
      "userId": "01724913762953253824"
     },
     "user_tz": -60
    },
    "id": "e6_yUPxqHbys",
    "outputId": "43e023f6-8fcd-48eb-cc70-ef61908a9add"
   },
   "outputs": [],
   "source": [
    "result_from_hamiltonian = NumPyMinimumEigensolver().compute_minimum_eigenvalue(qubitOp)\n",
    "\n",
    "print(\"energy:\", result_from_hamiltonian.eigenvalue.real)\n",
    "print(\"objective:\", result_from_hamiltonian.eigenvalue.real + offset)"
   ]
  },
  {
   "cell_type": "markdown",
   "metadata": {
    "id": "gQpZpMUmXdOI"
   },
   "source": [
    "Finally, we compute an optimised solution using the previously defined `SamplingVQE`."
   ]
  },
  {
   "cell_type": "code",
   "execution_count": null,
   "metadata": {
    "colab": {
     "base_uri": "https://localhost:8080/"
    },
    "executionInfo": {
     "elapsed": 6852,
     "status": "ok",
     "timestamp": 1730973311133,
     "user": {
      "displayName": "Laura Cappelli",
      "userId": "01724913762953253824"
     },
     "user_tz": -60
    },
    "id": "dqMlgzifFENw",
    "outputId": "902db8f5-9bff-4569-b09d-98ad9bfa9764"
   },
   "outputs": [],
   "source": [
    "vqe_optimizer = MinimumEigenOptimizer(vqe)\n",
    "\n",
    "# solve quadratic program\n",
    "result = vqe_optimizer.solve(qp_model)\n",
    "print(result.prettyprint())"
   ]
  },
  {
   "cell_type": "code",
   "execution_count": null,
   "metadata": {
    "colab": {
     "base_uri": "https://localhost:8080/",
     "height": 742
    },
    "executionInfo": {
     "elapsed": 6241,
     "status": "ok",
     "timestamp": 1730973361447,
     "user": {
      "displayName": "Laura Cappelli",
      "userId": "01724913762953253824"
     },
     "user_tz": -60
    },
    "id": "KlJHl9PHHrEb",
    "outputId": "a7be9a1c-e396-4be6-bca3-f5331cc4b9f3"
   },
   "outputs": [],
   "source": [
    "result = vqe.compute_minimum_eigenvalue(qubitOp)\n",
    "\n",
    "# print results\n",
    "eigvecs = vqe_result.eigenstate\n",
    "energy  = vqe_result.eigenvalue.real\n",
    "best_solution = vqe_result.best_measurement[\"bitstring\"]\n",
    "Qmin = np.asarray([int(y) for y in reversed(best_solution)])\n",
    "cost = vqe_result.eigenvalue.real + offset\n",
    "print(\"energy (eigenvalue):\", energy)\n",
    "print(\"Qmin (solution) = \" + str(Qmin) + \" cost (energy + offset) = \" + str(cost))\n",
    "print(\"Computing time = \", vqe_result.optimizer_time)\n",
    "\n",
    "CQmin = (Qmin.dot(Q).dot(Qmin.transpose()))+g.dot(Qmin.transpose())+c\n",
    "print(\"C(Qmin): \", CQmin)\n",
    "print(\"C(min): \", Cmin)\n",
    "if Cmin == CQmin:\n",
    "  print(\"OK CYmin == CQmin\")\n",
    "else:\n",
    "  print(\"KO QYmin != CQmin\")\n",
    "\n",
    "print(\"\\nGraph coloring solution with VQE:\")\n",
    "for ii in range(len(Qmin)):\n",
    "  if Qmin[ii] == 1:\n",
    "    print(\"q_%02d --> x_%d%d=true --> N%d C%d\" % (ii, (ii//K), (ii%K), (ii//K), (ii%K)))\n",
    "print()\n",
    "draw_graph(nx.from_numpy_array(G), getColors(Qmin, N, K))"
   ]
  },
  {
   "cell_type": "code",
   "execution_count": null,
   "metadata": {},
   "outputs": [],
   "source": []
  }
 ],
 "metadata": {
  "colab": {
   "provenance": [],
   "toc_visible": true
  },
  "kernelspec": {
   "display_name": "qml",
   "language": "python",
   "name": "qml"
  },
  "language_info": {
   "codemirror_mode": {
    "name": "ipython",
    "version": 3
   },
   "file_extension": ".py",
   "mimetype": "text/x-python",
   "name": "python",
   "nbconvert_exporter": "python",
   "pygments_lexer": "ipython3",
   "version": "3.11.9"
  }
 },
 "nbformat": 4,
 "nbformat_minor": 4
}
