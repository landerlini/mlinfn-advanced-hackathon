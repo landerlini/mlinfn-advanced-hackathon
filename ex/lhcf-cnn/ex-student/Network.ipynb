{
 "cells": [
  {
   "cell_type": "code",
   "execution_count": null,
   "id": "f44cf46f-02f6-4be0-b74c-4dae86dcc39f",
   "metadata": {},
   "outputs": [],
   "source": [
    "import time\n",
    "\n",
    "import numpy as np\n",
    "import tensorflow as tf\n",
    "import matplotlib.pyplot as plt\n",
    "\n",
    "from tensorflow import keras\n",
    "from tensorflow.keras.models import Model\n",
    "from tensorflow.keras.layers import Input, Conv2D, Conv1D, Dense,  MaxPooling2D, MaxPooling1D, Flatten, Concatenate, GlobalAveragePooling2D, GlobalAveragePooling1D"
   ]
  },
  {
   "cell_type": "code",
   "execution_count": null,
   "id": "c182df57-ba2e-4b9c-86c7-3688e11b3682",
   "metadata": {},
   "outputs": [],
   "source": [
    "tf.__version__"
   ]
  },
  {
   "cell_type": "code",
   "execution_count": null,
   "id": "2651a9ac-433e-4b4d-9722-81a537495d09",
   "metadata": {},
   "outputs": [],
   "source": [
    "PATH = \"/tmp/lhcf-cnn\""
   ]
  },
  {
   "cell_type": "markdown",
   "id": "476deaac-5408-4584-9c16-58e87a9e44e7",
   "metadata": {},
   "source": [
    "Describe the other features based on their size"
   ]
  },
  {
   "cell_type": "code",
   "execution_count": null,
   "id": "f2e4faaf-f7fd-4687-a1db-ac46147ed9f2",
   "metadata": {},
   "outputs": [],
   "source": [
    "# Define the TFRecord schema\n",
    "feature_description = {\n",
    "    \"posdE_01xy\": tf.io.FixedLenFeature([384 * 384 * 2], tf.float32),\n",
    "    ...,\n",
    "    ...,\n",
    "    ...,\n",
    "    ....\n",
    "}"
   ]
  },
  {
   "cell_type": "markdown",
   "id": "80e75aab-e409-4f3d-8edc-7337cc69a340",
   "metadata": {},
   "source": [
    "Reconstruct the original shape."
   ]
  },
  {
   "cell_type": "code",
   "execution_count": null,
   "id": "deec05b0-cfe0-4618-be31-234b10203724",
   "metadata": {},
   "outputs": [],
   "source": [
    "# Function to parse TFRecord records\n",
    "def parse_tfrecord_fn(example_proto):\n",
    "    example = tf.io.parse_single_example(example_proto, feature_description)\n",
    "    \n",
    "    # Reconstruct the original shapes\n",
    "    posdE_01xy = tf.reshape(example[\"posdE_01xy\"], (384, 384, 2))\n",
    "    ...\n",
    "    ...\n",
    "    ...\n",
    "    label = example[\"label\"]\n",
    "    \n",
    "    return {\"posdE_01xy_input\": posdE_01xy, \"posdE_23x_input\": posdE_23x, \"posdE_23y_input\": posdE_23y, \"dE_input\": dE}, label\n"
   ]
  },
  {
   "cell_type": "code",
   "execution_count": null,
   "id": "6129e697-64d0-444f-b0fb-ee8f5483b8aa",
   "metadata": {},
   "outputs": [],
   "source": [
    "# Load and preprocess data in batches\n",
    "def load_dataset(tfrecord_file, batch_size=32, shuffle_buffer=1000):\n",
    "    dataset = tf.data.TFRecordDataset(tfrecord_file)\n",
    "    dataset = dataset.map(parse_tfrecord_fn, num_parallel_calls=tf.data.AUTOTUNE)\n",
    "    if shuffle_buffer == None:\n",
    "        dataset = dataset.batch(batch_size).prefetch(tf.data.AUTOTUNE)\n",
    "    else:\n",
    "        dataset = dataset.shuffle(shuffle_buffer).batch(batch_size).prefetch(tf.data.AUTOTUNE)\n",
    "    return dataset\n",
    "\n",
    "# Create training and validation datasets\n",
    "train_dataset = load_dataset(f\"{PATH}/train.tfrecord\", batch_size=32)\n",
    "validation_dataset = load_dataset(f\"{PATH}/validation.tfrecord\", batch_size=32, shuffle_buffer=None)"
   ]
  },
  {
   "cell_type": "code",
   "execution_count": null,
   "id": "9ba5cefa-0f43-4db6-bfaf-44c195bf0a94",
   "metadata": {},
   "outputs": [],
   "source": [
    "train_dataset.element_spec"
   ]
  },
  {
   "cell_type": "markdown",
   "id": "d2c516e5-d6d4-4e41-b009-d0193b00e6f0",
   "metadata": {},
   "source": [
    "Count the number of events classified as 0 and 1. Display them."
   ]
  },
  {
   "cell_type": "code",
   "execution_count": null,
   "id": "8bea9d06-21a3-45bb-b3d9-4a85aa39ce1f",
   "metadata": {},
   "outputs": [],
   "source": []
  },
  {
   "cell_type": "markdown",
   "id": "35dcb923-2d2a-4412-a4e3-33ba85eaa8a9",
   "metadata": {},
   "source": [
    "Graphically display an event. Show each variable and each channel."
   ]
  },
  {
   "cell_type": "code",
   "execution_count": null,
   "id": "7f920536-7327-42f5-88e7-74d2ca99ad89",
   "metadata": {},
   "outputs": [],
   "source": []
  },
  {
   "cell_type": "markdown",
   "id": "247b9d9a-53d8-4202-99dc-56a382b7933b",
   "metadata": {},
   "source": [
    "Build a neural network with 4 different inputs. For each one write only one layer\n",
    "\n",
    "One for 'posdE_01xy_input', one for 'posdE_23x_input', one for 'posdE_23y_input', and one for 'dE_input'. \n",
    "\n",
    "Combine them all together to get a single output. Remember, this is a classification problem."
   ]
  },
  {
   "cell_type": "code",
   "execution_count": null,
   "id": "48a6c008-75e8-40e2-b054-71a4809f6446",
   "metadata": {},
   "outputs": [],
   "source": [
    "# Input for posdE_01xy\n",
    "\n",
    "# Input for posdE_23x\n",
    "\n",
    "# Input for posdE_23y\n",
    "\n",
    "# Input for dE_input\n",
    "input_dE = Input(shape=(16,), name=\"dE_input\")\n",
    "x4 = Dense(4, activation=\"relu\")(input_dE)\n",
    ".\n",
    ".\n",
    ".\n",
    "\n",
    "# Define the model"
   ]
  },
  {
   "cell_type": "code",
   "execution_count": null,
   "id": "f51a7657-00f7-4dce-bbb2-ce3edf559212",
   "metadata": {},
   "outputs": [],
   "source": [
    "# Compile the model\n",
    "from tensorflow.keras.metrics import AUC\n",
    "model.compile(optimizer=\"adam\", loss=\"binary_crossentropy\", metrics=[\"accuracy\", AUC()])\n",
    "\n",
    "# Display the model summary\n",
    "model.summary()"
   ]
  },
  {
   "cell_type": "markdown",
   "id": "f1dc0fa0-f088-4eb6-b703-860aa9aa4d79",
   "metadata": {},
   "source": [
    "print the graph of the model"
   ]
  },
  {
   "cell_type": "code",
   "execution_count": null,
   "id": "6ba5b03d-6b6b-4926-a8cf-e9a418bb5668",
   "metadata": {},
   "outputs": [],
   "source": []
  },
  {
   "cell_type": "markdown",
   "id": "5c756550-fcc2-49db-b2b0-c64cbf4dc9d5",
   "metadata": {},
   "source": [
    "Fit model"
   ]
  },
  {
   "cell_type": "code",
   "execution_count": null,
   "id": "e8dff8bd-0c14-44c9-afc8-48d84ba28042",
   "metadata": {},
   "outputs": [],
   "source": []
  },
  {
   "cell_type": "markdown",
   "id": "fcba35d5-8951-46e9-b8f2-1f69894a0d1a",
   "metadata": {},
   "source": [
    "Plot the loss curves and the metrics."
   ]
  },
  {
   "cell_type": "code",
   "execution_count": null,
   "id": "6c7e3b89-6cff-4699-ac17-fb1b5eb1a4a5",
   "metadata": {},
   "outputs": [],
   "source": []
  },
  {
   "cell_type": "markdown",
   "id": "f1283c45-d910-4de2-92e2-9e5b491b15f1",
   "metadata": {},
   "source": [
    "Compute true labels and predictions for the training dataset \n",
    "\n",
    "Split training predictions by labels\n",
    "\n",
    "Compute true labels and predictions for the validation dataset\n",
    "\n",
    "Split validation predictions by labels\n",
    "\n",
    "Plot the histograms for the split predictions of training and validation."
   ]
  },
  {
   "cell_type": "code",
   "execution_count": null,
   "id": "337fe256-7780-4422-a6bf-326a5fa38a5a",
   "metadata": {},
   "outputs": [],
   "source": [
    "# Plot normalized histograms\n",
    "plt.figure(figsize=(10, 6))\n",
    "\n",
    "\n",
    "# Histogram for train_predictions_label_0 and train_predictions_label_1\n",
    "# Normalize each histogram so that the total area equals 1\n",
    "\n",
    "# Histograms for validation (without visualization)\n",
    "# Plot validation histograms"
   ]
  },
  {
   "cell_type": "markdown",
   "id": "766faba2-84fa-42d4-8376-029353bca345",
   "metadata": {},
   "source": [
    "Plot the Confusion Matrix"
   ]
  },
  {
   "cell_type": "code",
   "execution_count": null,
   "id": "ad39e005-b7d3-4c64-8e51-1da78de06d58",
   "metadata": {},
   "outputs": [],
   "source": []
  },
  {
   "cell_type": "markdown",
   "id": "91be03d4-2974-44db-b279-320ff44bc606",
   "metadata": {},
   "source": [
    "Rewrite another model using only the dense layer. Train it and compare its results with the previous model using an ROC curve."
   ]
  },
  {
   "cell_type": "code",
   "execution_count": null,
   "id": "994a0886-7b94-4a1d-9385-2c21a7ff0216",
   "metadata": {},
   "outputs": [],
   "source": []
  }
 ],
 "metadata": {
  "kernelspec": {
   "display_name": "Python 3 (ipykernel)",
   "language": "python",
   "name": "python3"
  },
  "language_info": {
   "codemirror_mode": {
    "name": "ipython",
    "version": 3
   },
   "file_extension": ".py",
   "mimetype": "text/x-python",
   "name": "python",
   "nbconvert_exporter": "python",
   "pygments_lexer": "ipython3",
   "version": "3.11.6"
  }
 },
 "nbformat": 4,
 "nbformat_minor": 5
}
